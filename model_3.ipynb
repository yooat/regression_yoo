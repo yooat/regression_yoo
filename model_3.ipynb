{
 "cells": [
  {
   "cell_type": "markdown",
   "metadata": {},
   "source": [
    "** 회귀모형 3 **\n",
    "- 회귀모형1을 다시 생성하여 회귀모수의 pvalue를 확인한다. 이후, pvalue>0.05 인 데이터를 제거한다.\n",
    "- 카테고리: Fuel_Type, Color (엑셀 단에서의 one hot encoding)\n",
    "- train 데이터 모두 사용"
   ]
  },
  {
   "cell_type": "markdown",
   "metadata": {},
   "source": [
    "** 회귀모형 1에서 제거된 변수**"
   ]
  },
  {
   "cell_type": "markdown",
   "metadata": {},
   "source": [
    "\n",
    "'Met_Color', 'CC', 'Gears', 'ABS', 'Airbag_1', 'Airbag_2',\n",
    "       'Boardcomputer', 'CD_Player', 'Central_Lock', 'Power_Steering', 'Radio',\n",
    "       'Mistlamps', 'Backseat_Divider', 'Radio_cassette', 'Parking_Assistant',\n",
    "       'col_dummy1', 'col_dummy2', 'col_dummy4', 'col_dummy6', 'col_dummy7',\n",
    "       'col_dummy8', 'col_dummy9', 'col_dummy10', 'fuel_dumm2'\n",
    "       "
   ]
  },
  {
   "cell_type": "markdown",
   "metadata": {},
   "source": [
    "제외해야 할 변수를 확인하기 위해, model 1을 다시 생성"
   ]
  },
  {
   "cell_type": "code",
   "execution_count": 2,
   "metadata": {},
   "outputs": [
    {
     "name": "stderr",
     "output_type": "stream",
     "text": [
      "/Users/yoo/anaconda/lib/python3.6/site-packages/statsmodels/compat/pandas.py:56: FutureWarning: The pandas.core.datetools module is deprecated and will be removed in a future version. Please use the pandas.tseries module instead.\n",
      "  from pandas.core import datetools\n"
     ]
    }
   ],
   "source": [
    "import numpy as np\n",
    "import pandas as pd\n",
    "import statsmodels.api as sm\n",
    "import seaborn as sns\n",
    "import matplotlib.pyplot as plt"
   ]
  },
  {
   "cell_type": "code",
   "execution_count": 53,
   "metadata": {
    "collapsed": true
   },
   "outputs": [],
   "source": [
    "train_df = pd.read_csv('/Users/yoo/Desktop/dss/regression/dss-regression-datasets-master/project-toyotacorolla-data/train.csv')\n",
    "test_df = pd.read_csv('/Users/yoo/Desktop/dss/regression/dss-regression-datasets-master/project-toyotacorolla-data/test.csv')"
   ]
  },
  {
   "cell_type": "code",
   "execution_count": 6,
   "metadata": {
    "collapsed": true
   },
   "outputs": [],
   "source": [
    "del train_df['Id']\n",
    "del train_df['Color']\n",
    "del train_df['Model']\n",
    "del train_df['Fuel_Type']\n",
    "del train_df['Fuel_Type.1']\n",
    "del train_df['Cylinders']\n"
   ]
  },
  {
   "cell_type": "code",
   "execution_count": 10,
   "metadata": {
    "collapsed": true
   },
   "outputs": [],
   "source": [
    "y_train_df = train_df['Price']\n",
    "del train_df['Price']\n",
    "x_train_df = sm.add_constant(train_df, has_constant='add')"
   ]
  },
  {
   "cell_type": "code",
   "execution_count": 11,
   "metadata": {
    "collapsed": true
   },
   "outputs": [
    {
     "data": {
      "text/html": [
       "<div>\n",
       "<style>\n",
       "    .dataframe thead tr:only-child th {\n",
       "        text-align: right;\n",
       "    }\n",
       "\n",
       "    .dataframe thead th {\n",
       "        text-align: left;\n",
       "    }\n",
       "\n",
       "    .dataframe tbody tr th {\n",
       "        vertical-align: top;\n",
       "    }\n",
       "</style>\n",
       "<table border=\"1\" class=\"dataframe\">\n",
       "  <thead>\n",
       "    <tr style=\"text-align: right;\">\n",
       "      <th></th>\n",
       "      <th>const</th>\n",
       "      <th>Age_08_04</th>\n",
       "      <th>Mfg_Month</th>\n",
       "      <th>Mfg_Year</th>\n",
       "      <th>KM</th>\n",
       "      <th>HP</th>\n",
       "      <th>Met_Color</th>\n",
       "      <th>Automatic</th>\n",
       "      <th>CC</th>\n",
       "      <th>Doors</th>\n",
       "      <th>...</th>\n",
       "      <th>col_dummy4</th>\n",
       "      <th>col_dummy5</th>\n",
       "      <th>col_dummy6</th>\n",
       "      <th>col_dummy7</th>\n",
       "      <th>col_dummy8</th>\n",
       "      <th>col_dummy9</th>\n",
       "      <th>col_dummy10</th>\n",
       "      <th>fuel_dumm1</th>\n",
       "      <th>fuel_dumm2</th>\n",
       "      <th>fuel_dumm3</th>\n",
       "    </tr>\n",
       "  </thead>\n",
       "  <tbody>\n",
       "    <tr>\n",
       "      <th>0</th>\n",
       "      <td>1.0</td>\n",
       "      <td>23</td>\n",
       "      <td>10</td>\n",
       "      <td>2002</td>\n",
       "      <td>46986</td>\n",
       "      <td>90</td>\n",
       "      <td>1</td>\n",
       "      <td>0</td>\n",
       "      <td>2000</td>\n",
       "      <td>3</td>\n",
       "      <td>...</td>\n",
       "      <td>0</td>\n",
       "      <td>0</td>\n",
       "      <td>0</td>\n",
       "      <td>0</td>\n",
       "      <td>0</td>\n",
       "      <td>0</td>\n",
       "      <td>0</td>\n",
       "      <td>0</td>\n",
       "      <td>1</td>\n",
       "      <td>0</td>\n",
       "    </tr>\n",
       "    <tr>\n",
       "      <th>1</th>\n",
       "      <td>1.0</td>\n",
       "      <td>23</td>\n",
       "      <td>10</td>\n",
       "      <td>2002</td>\n",
       "      <td>72937</td>\n",
       "      <td>90</td>\n",
       "      <td>1</td>\n",
       "      <td>0</td>\n",
       "      <td>2000</td>\n",
       "      <td>3</td>\n",
       "      <td>...</td>\n",
       "      <td>0</td>\n",
       "      <td>0</td>\n",
       "      <td>0</td>\n",
       "      <td>0</td>\n",
       "      <td>0</td>\n",
       "      <td>0</td>\n",
       "      <td>0</td>\n",
       "      <td>0</td>\n",
       "      <td>1</td>\n",
       "      <td>0</td>\n",
       "    </tr>\n",
       "    <tr>\n",
       "      <th>2</th>\n",
       "      <td>1.0</td>\n",
       "      <td>30</td>\n",
       "      <td>3</td>\n",
       "      <td>2002</td>\n",
       "      <td>38500</td>\n",
       "      <td>90</td>\n",
       "      <td>0</td>\n",
       "      <td>0</td>\n",
       "      <td>2000</td>\n",
       "      <td>3</td>\n",
       "      <td>...</td>\n",
       "      <td>0</td>\n",
       "      <td>0</td>\n",
       "      <td>0</td>\n",
       "      <td>0</td>\n",
       "      <td>0</td>\n",
       "      <td>0</td>\n",
       "      <td>0</td>\n",
       "      <td>0</td>\n",
       "      <td>1</td>\n",
       "      <td>0</td>\n",
       "    </tr>\n",
       "    <tr>\n",
       "      <th>3</th>\n",
       "      <td>1.0</td>\n",
       "      <td>25</td>\n",
       "      <td>8</td>\n",
       "      <td>2002</td>\n",
       "      <td>31461</td>\n",
       "      <td>192</td>\n",
       "      <td>0</td>\n",
       "      <td>0</td>\n",
       "      <td>1800</td>\n",
       "      <td>3</td>\n",
       "      <td>...</td>\n",
       "      <td>0</td>\n",
       "      <td>0</td>\n",
       "      <td>0</td>\n",
       "      <td>0</td>\n",
       "      <td>0</td>\n",
       "      <td>0</td>\n",
       "      <td>0</td>\n",
       "      <td>0</td>\n",
       "      <td>0</td>\n",
       "      <td>1</td>\n",
       "    </tr>\n",
       "    <tr>\n",
       "      <th>4</th>\n",
       "      <td>1.0</td>\n",
       "      <td>25</td>\n",
       "      <td>8</td>\n",
       "      <td>2002</td>\n",
       "      <td>32189</td>\n",
       "      <td>192</td>\n",
       "      <td>0</td>\n",
       "      <td>0</td>\n",
       "      <td>1800</td>\n",
       "      <td>3</td>\n",
       "      <td>...</td>\n",
       "      <td>1</td>\n",
       "      <td>0</td>\n",
       "      <td>0</td>\n",
       "      <td>0</td>\n",
       "      <td>0</td>\n",
       "      <td>0</td>\n",
       "      <td>0</td>\n",
       "      <td>0</td>\n",
       "      <td>0</td>\n",
       "      <td>1</td>\n",
       "    </tr>\n",
       "  </tbody>\n",
       "</table>\n",
       "<p>5 rows × 47 columns</p>\n",
       "</div>"
      ],
      "text/plain": [
       "   const  Age_08_04  Mfg_Month  Mfg_Year     KM   HP  Met_Color  Automatic  \\\n",
       "0    1.0         23         10      2002  46986   90          1          0   \n",
       "1    1.0         23         10      2002  72937   90          1          0   \n",
       "2    1.0         30          3      2002  38500   90          0          0   \n",
       "3    1.0         25          8      2002  31461  192          0          0   \n",
       "4    1.0         25          8      2002  32189  192          0          0   \n",
       "\n",
       "     CC  Doors     ...      col_dummy4  col_dummy5  col_dummy6  col_dummy7  \\\n",
       "0  2000      3     ...               0           0           0           0   \n",
       "1  2000      3     ...               0           0           0           0   \n",
       "2  2000      3     ...               0           0           0           0   \n",
       "3  1800      3     ...               0           0           0           0   \n",
       "4  1800      3     ...               1           0           0           0   \n",
       "\n",
       "   col_dummy8  col_dummy9  col_dummy10  fuel_dumm1  fuel_dumm2  fuel_dumm3  \n",
       "0           0           0            0           0           1           0  \n",
       "1           0           0            0           0           1           0  \n",
       "2           0           0            0           0           1           0  \n",
       "3           0           0            0           0           0           1  \n",
       "4           0           0            0           0           0           1  \n",
       "\n",
       "[5 rows x 47 columns]"
      ]
     },
     "execution_count": 11,
     "metadata": {},
     "output_type": "execute_result"
    }
   ],
   "source": [
    "x_train_df.head()"
   ]
  },
  {
   "cell_type": "code",
   "execution_count": 13,
   "metadata": {
    "collapsed": true
   },
   "outputs": [
    {
     "data": {
      "text/plain": [
       "0    13500\n",
       "1    13750\n",
       "2    13750\n",
       "3    20950\n",
       "4    19600\n",
       "Name: Price, dtype: int64"
      ]
     },
     "execution_count": 13,
     "metadata": {},
     "output_type": "execute_result"
    }
   ],
   "source": [
    "y_train_df.head()"
   ]
  },
  {
   "cell_type": "code",
   "execution_count": 14,
   "metadata": {},
   "outputs": [],
   "source": [
    "model_corolla = sm.OLS(y_train_df, x_train_df)\n",
    "result_corolla = model_corolla.fit()"
   ]
  },
  {
   "cell_type": "markdown",
   "metadata": {},
   "source": [
    "** 회귀모형 1의 결과 **"
   ]
  },
  {
   "cell_type": "code",
   "execution_count": 28,
   "metadata": {},
   "outputs": [
    {
     "data": {
      "text/plain": [
       "Met_Color            0.851762\n",
       "CC                   0.546817\n",
       "Gears                0.710227\n",
       "ABS                  0.078865\n",
       "Airbag_1             0.612557\n",
       "Airbag_2             0.138847\n",
       "Boardcomputer        0.087397\n",
       "CD_Player            0.075480\n",
       "Central_Lock         0.913713\n",
       "Power_Steering       0.463212\n",
       "Radio                0.281312\n",
       "Mistlamps            0.491751\n",
       "Backseat_Divider     0.151138\n",
       "Radio_cassette       0.239697\n",
       "Parking_Assistant    0.165422\n",
       "col_dummy1           0.246528\n",
       "col_dummy2           0.160482\n",
       "col_dummy4           0.440798\n",
       "col_dummy6           0.965000\n",
       "col_dummy7           0.064700\n",
       "col_dummy8           0.703599\n",
       "col_dummy9           0.830879\n",
       "col_dummy10          0.616197\n",
       "fuel_dumm2           0.243482\n",
       "dtype: float64"
      ]
     },
     "execution_count": 28,
     "metadata": {},
     "output_type": "execute_result"
    }
   ],
   "source": [
    "# pvalue 0.05 초과인 독립변수\n",
    "to_del_var = result_corolla.pvalues[result_corolla.pvalues > 0.05]\n",
    "to_del_var"
   ]
  },
  {
   "cell_type": "code",
   "execution_count": 44,
   "metadata": {
    "collapsed": true
   },
   "outputs": [],
   "source": [
    "# 모형1에서 사용했던 train 데이터 복사\n",
    "x_train_df_2 = x_train_df"
   ]
  },
  {
   "cell_type": "code",
   "execution_count": 45,
   "metadata": {},
   "outputs": [],
   "source": [
    "# 모형2: 복사한 train 데이터에서 pvalue가 낮은 독립변수 제외 \n",
    "for i in to_del_var.index:\n",
    "    del x_train_df_2[i]"
   ]
  },
  {
   "cell_type": "code",
   "execution_count": 48,
   "metadata": {},
   "outputs": [
    {
     "data": {
      "text/html": [
       "<div>\n",
       "<style>\n",
       "    .dataframe thead tr:only-child th {\n",
       "        text-align: right;\n",
       "    }\n",
       "\n",
       "    .dataframe thead th {\n",
       "        text-align: left;\n",
       "    }\n",
       "\n",
       "    .dataframe tbody tr th {\n",
       "        vertical-align: top;\n",
       "    }\n",
       "</style>\n",
       "<table border=\"1\" class=\"dataframe\">\n",
       "  <thead>\n",
       "    <tr style=\"text-align: right;\">\n",
       "      <th></th>\n",
       "      <th>const</th>\n",
       "      <th>Age_08_04</th>\n",
       "      <th>Mfg_Month</th>\n",
       "      <th>Mfg_Year</th>\n",
       "      <th>KM</th>\n",
       "      <th>HP</th>\n",
       "      <th>Automatic</th>\n",
       "      <th>Doors</th>\n",
       "      <th>Quarterly_Tax</th>\n",
       "      <th>Weight</th>\n",
       "      <th>...</th>\n",
       "      <th>Airco</th>\n",
       "      <th>Automatic_airco</th>\n",
       "      <th>Powered_Windows</th>\n",
       "      <th>Sport_Model</th>\n",
       "      <th>Metallic_Rim</th>\n",
       "      <th>Tow_Bar</th>\n",
       "      <th>col_dummy3</th>\n",
       "      <th>col_dummy5</th>\n",
       "      <th>fuel_dumm1</th>\n",
       "      <th>fuel_dumm3</th>\n",
       "    </tr>\n",
       "  </thead>\n",
       "  <tbody>\n",
       "    <tr>\n",
       "      <th>0</th>\n",
       "      <td>1.0</td>\n",
       "      <td>23</td>\n",
       "      <td>10</td>\n",
       "      <td>2002</td>\n",
       "      <td>46986</td>\n",
       "      <td>90</td>\n",
       "      <td>0</td>\n",
       "      <td>3</td>\n",
       "      <td>210</td>\n",
       "      <td>1165</td>\n",
       "      <td>...</td>\n",
       "      <td>0</td>\n",
       "      <td>0</td>\n",
       "      <td>1</td>\n",
       "      <td>0</td>\n",
       "      <td>0</td>\n",
       "      <td>0</td>\n",
       "      <td>0</td>\n",
       "      <td>0</td>\n",
       "      <td>0</td>\n",
       "      <td>0</td>\n",
       "    </tr>\n",
       "    <tr>\n",
       "      <th>1</th>\n",
       "      <td>1.0</td>\n",
       "      <td>23</td>\n",
       "      <td>10</td>\n",
       "      <td>2002</td>\n",
       "      <td>72937</td>\n",
       "      <td>90</td>\n",
       "      <td>0</td>\n",
       "      <td>3</td>\n",
       "      <td>210</td>\n",
       "      <td>1165</td>\n",
       "      <td>...</td>\n",
       "      <td>1</td>\n",
       "      <td>0</td>\n",
       "      <td>0</td>\n",
       "      <td>0</td>\n",
       "      <td>0</td>\n",
       "      <td>0</td>\n",
       "      <td>0</td>\n",
       "      <td>0</td>\n",
       "      <td>0</td>\n",
       "      <td>0</td>\n",
       "    </tr>\n",
       "    <tr>\n",
       "      <th>2</th>\n",
       "      <td>1.0</td>\n",
       "      <td>30</td>\n",
       "      <td>3</td>\n",
       "      <td>2002</td>\n",
       "      <td>38500</td>\n",
       "      <td>90</td>\n",
       "      <td>0</td>\n",
       "      <td>3</td>\n",
       "      <td>210</td>\n",
       "      <td>1170</td>\n",
       "      <td>...</td>\n",
       "      <td>1</td>\n",
       "      <td>0</td>\n",
       "      <td>1</td>\n",
       "      <td>0</td>\n",
       "      <td>0</td>\n",
       "      <td>0</td>\n",
       "      <td>1</td>\n",
       "      <td>0</td>\n",
       "      <td>0</td>\n",
       "      <td>0</td>\n",
       "    </tr>\n",
       "    <tr>\n",
       "      <th>3</th>\n",
       "      <td>1.0</td>\n",
       "      <td>25</td>\n",
       "      <td>8</td>\n",
       "      <td>2002</td>\n",
       "      <td>31461</td>\n",
       "      <td>192</td>\n",
       "      <td>0</td>\n",
       "      <td>3</td>\n",
       "      <td>100</td>\n",
       "      <td>1185</td>\n",
       "      <td>...</td>\n",
       "      <td>1</td>\n",
       "      <td>1</td>\n",
       "      <td>1</td>\n",
       "      <td>0</td>\n",
       "      <td>1</td>\n",
       "      <td>0</td>\n",
       "      <td>0</td>\n",
       "      <td>0</td>\n",
       "      <td>0</td>\n",
       "      <td>1</td>\n",
       "    </tr>\n",
       "    <tr>\n",
       "      <th>4</th>\n",
       "      <td>1.0</td>\n",
       "      <td>25</td>\n",
       "      <td>8</td>\n",
       "      <td>2002</td>\n",
       "      <td>32189</td>\n",
       "      <td>192</td>\n",
       "      <td>0</td>\n",
       "      <td>3</td>\n",
       "      <td>100</td>\n",
       "      <td>1185</td>\n",
       "      <td>...</td>\n",
       "      <td>1</td>\n",
       "      <td>1</td>\n",
       "      <td>1</td>\n",
       "      <td>1</td>\n",
       "      <td>1</td>\n",
       "      <td>0</td>\n",
       "      <td>0</td>\n",
       "      <td>0</td>\n",
       "      <td>0</td>\n",
       "      <td>1</td>\n",
       "    </tr>\n",
       "  </tbody>\n",
       "</table>\n",
       "<p>5 rows × 23 columns</p>\n",
       "</div>"
      ],
      "text/plain": [
       "   const  Age_08_04  Mfg_Month  Mfg_Year     KM   HP  Automatic  Doors  \\\n",
       "0    1.0         23         10      2002  46986   90          0      3   \n",
       "1    1.0         23         10      2002  72937   90          0      3   \n",
       "2    1.0         30          3      2002  38500   90          0      3   \n",
       "3    1.0         25          8      2002  31461  192          0      3   \n",
       "4    1.0         25          8      2002  32189  192          0      3   \n",
       "\n",
       "   Quarterly_Tax  Weight     ...      Airco  Automatic_airco  Powered_Windows  \\\n",
       "0            210    1165     ...          0                0                1   \n",
       "1            210    1165     ...          1                0                0   \n",
       "2            210    1170     ...          1                0                1   \n",
       "3            100    1185     ...          1                1                1   \n",
       "4            100    1185     ...          1                1                1   \n",
       "\n",
       "   Sport_Model  Metallic_Rim  Tow_Bar  col_dummy3  col_dummy5  fuel_dumm1  \\\n",
       "0            0             0        0           0           0           0   \n",
       "1            0             0        0           0           0           0   \n",
       "2            0             0        0           1           0           0   \n",
       "3            0             1        0           0           0           0   \n",
       "4            1             1        0           0           0           0   \n",
       "\n",
       "   fuel_dumm3  \n",
       "0           0  \n",
       "1           0  \n",
       "2           0  \n",
       "3           1  \n",
       "4           1  \n",
       "\n",
       "[5 rows x 23 columns]"
      ]
     },
     "execution_count": 48,
     "metadata": {},
     "output_type": "execute_result"
    }
   ],
   "source": [
    "x_train_df_2.head() #집합: 오그멘테이션 o, 변수 제외 o"
   ]
  },
  {
   "cell_type": "code",
   "execution_count": null,
   "metadata": {
    "collapsed": true
   },
   "outputs": [],
   "source": []
  },
  {
   "cell_type": "code",
   "execution_count": null,
   "metadata": {
    "collapsed": true
   },
   "outputs": [],
   "source": []
  },
  {
   "cell_type": "markdown",
   "metadata": {},
   "source": [
    "** 회귀모형 3 결과** "
   ]
  },
  {
   "cell_type": "code",
   "execution_count": 49,
   "metadata": {
    "collapsed": true
   },
   "outputs": [],
   "source": [
    "model_corolla = sm.OLS(y_train_df, x_train_df_2)\n",
    "result_corolla = model_corolla.fit()"
   ]
  },
  {
   "cell_type": "code",
   "execution_count": 50,
   "metadata": {},
   "outputs": [
    {
     "name": "stdout",
     "output_type": "stream",
     "text": [
      "                            OLS Regression Results                            \n",
      "==============================================================================\n",
      "Dep. Variable:                  Price   R-squared:                       0.906\n",
      "Model:                            OLS   Adj. R-squared:                  0.904\n",
      "Method:                 Least Squares   F-statistic:                     455.4\n",
      "Date:                Thu, 19 Oct 2017   Prob (F-statistic):               0.00\n",
      "Time:                        18:24:09   Log-Likelihood:                -8591.4\n",
      "No. Observations:                1019   AIC:                         1.723e+04\n",
      "Df Residuals:                     997   BIC:                         1.734e+04\n",
      "Df Model:                          21                                         \n",
      "Covariance Type:            nonrobust                                         \n",
      "====================================================================================\n",
      "                       coef    std err          t      P>|t|      [0.025      0.975]\n",
      "------------------------------------------------------------------------------------\n",
      "const               -0.0079      0.001    -15.090      0.000      -0.009      -0.007\n",
      "Age_08_04         -112.8439      2.983    -37.826      0.000    -118.698    -106.990\n",
      "Mfg_Month         -101.5074     10.893     -9.318      0.000    -122.884     -80.131\n",
      "Mfg_Year             2.0741      0.676      3.067      0.002       0.747       3.401\n",
      "KM                  -0.0171      0.001    -12.444      0.000      -0.020      -0.014\n",
      "HP                  21.1576      3.583      5.905      0.000      14.127      28.189\n",
      "Automatic          405.4608    159.500      2.542      0.011      92.467     718.454\n",
      "Doors               95.3756     41.395      2.304      0.021      14.145     176.606\n",
      "Quarterly_Tax        9.1433      1.815      5.037      0.000       5.581      12.705\n",
      "Weight               9.0237      1.260      7.161      0.000       6.551      11.497\n",
      "Mfr_Guarantee      169.7853     76.928      2.207      0.028      18.825     320.745\n",
      "BOVAG_Guarantee    344.5743    124.191      2.775      0.006     100.868     588.280\n",
      "Guarantee_Period    96.5126     13.460      7.170      0.000      70.099     122.926\n",
      "Airco              141.5201     91.332      1.550      0.122     -37.704     320.744\n",
      "Automatic_airco   2420.9095    182.420     13.271      0.000    2062.938    2778.881\n",
      "Powered_Windows    413.3537     88.523      4.669      0.000     239.641     587.066\n",
      "Sport_Model        283.7467     84.386      3.362      0.001     118.151     449.342\n",
      "Metallic_Rim       294.1111     96.850      3.037      0.002     104.058     484.164\n",
      "Tow_Bar           -174.1303     81.722     -2.131      0.033    -334.498     -13.762\n",
      "col_dummy3         224.7587    109.624      2.050      0.041       9.639     439.879\n",
      "col_dummy5         250.7779     91.392      2.744      0.006      71.434     430.121\n",
      "fuel_dumm1        -879.5704    420.522     -2.092      0.037   -1704.780     -54.361\n",
      "fuel_dumm3         281.8791    293.275      0.961      0.337    -293.629     857.387\n",
      "==============================================================================\n",
      "Omnibus:                       86.442   Durbin-Watson:                   1.744\n",
      "Prob(Omnibus):                  0.000   Jarque-Bera (JB):              374.498\n",
      "Skew:                           0.261   Prob(JB):                     4.77e-82\n",
      "Kurtosis:                       5.924   Cond. No.                     1.67e+21\n",
      "==============================================================================\n",
      "\n",
      "Warnings:\n",
      "[1] Standard Errors assume that the covariance matrix of the errors is correctly specified.\n",
      "[2] The smallest eigenvalue is 2.21e-30. This might indicate that there are\n",
      "strong multicollinearity problems or that the design matrix is singular.\n"
     ]
    }
   ],
   "source": [
    "print(result_corolla.summary())"
   ]
  },
  {
   "cell_type": "code",
   "execution_count": 51,
   "metadata": {},
   "outputs": [
    {
     "data": {
      "image/png": "[encoded data removed]",
      "text/plain": [
       "<matplotlib.figure.Figure at 0x109758518>"
      ]
     },
     "metadata": {},
     "output_type": "display_data"
    }
   ],
   "source": [
    "y_train_new = result_corolla.predict(x_train_df_2)\n",
    "\n",
    "plt.scatter(y_train_df, y_train_new)\n",
    "plt.xlabel(u\"y\")\n",
    "plt.ylabel(u\"y^\",rotation=1)\n",
    "plt.show()"
   ]
  },
  {
   "cell_type": "code",
   "execution_count": 52,
   "metadata": {},
   "outputs": [
    {
     "data": {
      "text/plain": [
       "1110.2088463035814"
      ]
     },
     "execution_count": 52,
     "metadata": {},
     "output_type": "execute_result"
    }
   ],
   "source": [
    "sm.tools.eval_measures.rmse(y_train_df, y_train_new)"
   ]
  }
 ],
 "metadata": {
  "kernelspec": {
   "display_name": "Python 3",
   "language": "python",
   "name": "python3"
  },
  "language_info": {
   "codemirror_mode": {
    "name": "ipython",
    "version": 3
   },
   "file_extension": ".py",
   "mimetype": "text/x-python",
   "name": "python",
   "nbconvert_exporter": "python",
   "pygments_lexer": "ipython3",
   "version": "3.6.1"
  }
 },
 "nbformat": 4,
 "nbformat_minor": 2
}
