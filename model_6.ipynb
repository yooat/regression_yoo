{
 "cells": [
  {
   "cell_type": "markdown",
   "metadata": {},
   "source": [
    "** 회귀모형 6 **\n",
    "- 카테고리 변수 encoding을 위한 fomula 활용, 회귀모형 1과 동일한 변수 조건\n",
    "- 카테고리: Fuel_Type, Color \n",
    "- train 데이터 모두 사용"
   ]
  },
  {
   "cell_type": "code",
   "execution_count": 48,
   "metadata": {},
   "outputs": [
    {
     "data": {
      "text/plain": [
       "['Met_Color', 'Airco']"
      ]
     },
     "execution_count": 48,
     "metadata": {},
     "output_type": "execute_result"
    }
   ],
   "source": [
    "#회귀모형 2에서 제거한 변수들\n",
    "['Color[T.Black]', 'Color[T.Blue]', 'Color[T.Green]', 'Color[T.Grey]',\n",
    "       'Color[T.Red]', 'Color[T.Silver]', 'Color[T.Violet]', 'Color[T.White]',\n",
    "       'Color[T.Yellow]', 'Met_Color', 'CC', 'Gears', 'ABS', 'Airbag_1',\n",
    "       'Airbag_2', 'Boardcomputer', 'CD_Player', 'Central_Lock',\n",
    "       'Power_Steering', 'Radio', 'Mistlamps', 'Backseat_Divider',\n",
    "       'Radio_cassette', 'Parking_Assistant']\n",
    "\n",
    "#회귀모형 4에서 제거한 변수들\n",
    "['Met_Color', 'Airco']"
   ]
  },
  {
   "cell_type": "code",
   "execution_count": null,
   "metadata": {
    "collapsed": true
   },
   "outputs": [],
   "source": []
  },
  {
   "cell_type": "code",
   "execution_count": null,
   "metadata": {
    "collapsed": true
   },
   "outputs": [],
   "source": []
  },
  {
   "cell_type": "code",
   "execution_count": null,
   "metadata": {
    "collapsed": true
   },
   "outputs": [],
   "source": []
  },
  {
   "cell_type": "code",
   "execution_count": 1,
   "metadata": {},
   "outputs": [
    {
     "name": "stderr",
     "output_type": "stream",
     "text": [
      "/Users/yoo/anaconda/lib/python3.6/site-packages/statsmodels/compat/pandas.py:56: FutureWarning: The pandas.core.datetools module is deprecated and will be removed in a future version. Please use the pandas.tseries module instead.\n",
      "  from pandas.core import datetools\n"
     ]
    }
   ],
   "source": [
    "import numpy as np\n",
    "import pandas as pd\n",
    "import statsmodels.api as sm\n",
    "import seaborn as sns\n",
    "import matplotlib.pyplot as plt"
   ]
  },
  {
   "cell_type": "code",
   "execution_count": 2,
   "metadata": {
    "collapsed": true
   },
   "outputs": [],
   "source": [
    "from patsy import dmatrix"
   ]
  },
  {
   "cell_type": "code",
   "execution_count": 3,
   "metadata": {
    "collapsed": true
   },
   "outputs": [],
   "source": [
    "train_df = pd.read_csv('/Users/yoo/Desktop/dss/regression/dss-regression-datasets-master/project-toyotacorolla-data/train.csv')\n",
    "test_df = pd.read_csv('/Users/yoo/Desktop/dss/regression/dss-regression-datasets-master/project-toyotacorolla-data/test.csv')"
   ]
  },
  {
   "cell_type": "code",
   "execution_count": 4,
   "metadata": {
    "collapsed": true
   },
   "outputs": [],
   "source": [
    "del train_df['Id']\n",
    "#del train_df['Color']\n",
    "del train_df['Model']\n",
    "# del train_df['Fuel_Type']\n",
    "del train_df['Fuel_Type.1']\n",
    "del train_df['Cylinders']"
   ]
  },
  {
   "cell_type": "code",
   "execution_count": 5,
   "metadata": {
    "collapsed": true
   },
   "outputs": [],
   "source": [
    "y_train_df = train_df['Price']"
   ]
  },
  {
   "cell_type": "code",
   "execution_count": 6,
   "metadata": {
    "collapsed": true
   },
   "outputs": [],
   "source": [
    "del train_df['Price']"
   ]
  },
  {
   "cell_type": "code",
   "execution_count": 7,
   "metadata": {
    "collapsed": true
   },
   "outputs": [],
   "source": [
    "x_train_df = train_df"
   ]
  },
  {
   "cell_type": "code",
   "execution_count": 8,
   "metadata": {
    "collapsed": true
   },
   "outputs": [],
   "source": [
    "# 엑셀 단에서 인코딩된 dummy 변수 제외\n",
    "del x_train_df['col_dummy1']\n",
    "del x_train_df['col_dummy2']\n",
    "del x_train_df['col_dummy3']\n",
    "del x_train_df['col_dummy4']\n",
    "del x_train_df['col_dummy5']\n",
    "del x_train_df['col_dummy6']\n",
    "del x_train_df['col_dummy7']\n",
    "del x_train_df['col_dummy8']\n",
    "del x_train_df['col_dummy9']\n",
    "del x_train_df['col_dummy10']\n",
    "del x_train_df['fuel_dumm1']\n",
    "del x_train_df['fuel_dumm2']\n",
    "del x_train_df['fuel_dumm3']\n"
   ]
  },
  {
   "cell_type": "code",
   "execution_count": 9,
   "metadata": {},
   "outputs": [
    {
     "data": {
      "text/html": [
       "<div>\n",
       "<style>\n",
       "    .dataframe thead tr:only-child th {\n",
       "        text-align: right;\n",
       "    }\n",
       "\n",
       "    .dataframe thead th {\n",
       "        text-align: left;\n",
       "    }\n",
       "\n",
       "    .dataframe tbody tr th {\n",
       "        vertical-align: top;\n",
       "    }\n",
       "</style>\n",
       "<table border=\"1\" class=\"dataframe\">\n",
       "  <thead>\n",
       "    <tr style=\"text-align: right;\">\n",
       "      <th></th>\n",
       "      <th>Age_08_04</th>\n",
       "      <th>Mfg_Month</th>\n",
       "      <th>Mfg_Year</th>\n",
       "      <th>KM</th>\n",
       "      <th>Fuel_Type</th>\n",
       "      <th>HP</th>\n",
       "      <th>Met_Color</th>\n",
       "      <th>Automatic</th>\n",
       "      <th>CC</th>\n",
       "      <th>Doors</th>\n",
       "      <th>...</th>\n",
       "      <th>Power_Steering</th>\n",
       "      <th>Radio</th>\n",
       "      <th>Mistlamps</th>\n",
       "      <th>Sport_Model</th>\n",
       "      <th>Backseat_Divider</th>\n",
       "      <th>Metallic_Rim</th>\n",
       "      <th>Radio_cassette</th>\n",
       "      <th>Parking_Assistant</th>\n",
       "      <th>Tow_Bar</th>\n",
       "      <th>Color</th>\n",
       "    </tr>\n",
       "  </thead>\n",
       "  <tbody>\n",
       "    <tr>\n",
       "      <th>0</th>\n",
       "      <td>23</td>\n",
       "      <td>10</td>\n",
       "      <td>2002</td>\n",
       "      <td>46986</td>\n",
       "      <td>Diesel</td>\n",
       "      <td>90</td>\n",
       "      <td>1</td>\n",
       "      <td>0</td>\n",
       "      <td>2000</td>\n",
       "      <td>3</td>\n",
       "      <td>...</td>\n",
       "      <td>1</td>\n",
       "      <td>0</td>\n",
       "      <td>0</td>\n",
       "      <td>0</td>\n",
       "      <td>1</td>\n",
       "      <td>0</td>\n",
       "      <td>0</td>\n",
       "      <td>0</td>\n",
       "      <td>0</td>\n",
       "      <td>Blue</td>\n",
       "    </tr>\n",
       "    <tr>\n",
       "      <th>1</th>\n",
       "      <td>23</td>\n",
       "      <td>10</td>\n",
       "      <td>2002</td>\n",
       "      <td>72937</td>\n",
       "      <td>Diesel</td>\n",
       "      <td>90</td>\n",
       "      <td>1</td>\n",
       "      <td>0</td>\n",
       "      <td>2000</td>\n",
       "      <td>3</td>\n",
       "      <td>...</td>\n",
       "      <td>1</td>\n",
       "      <td>0</td>\n",
       "      <td>0</td>\n",
       "      <td>0</td>\n",
       "      <td>1</td>\n",
       "      <td>0</td>\n",
       "      <td>0</td>\n",
       "      <td>0</td>\n",
       "      <td>0</td>\n",
       "      <td>Silver</td>\n",
       "    </tr>\n",
       "    <tr>\n",
       "      <th>2</th>\n",
       "      <td>30</td>\n",
       "      <td>3</td>\n",
       "      <td>2002</td>\n",
       "      <td>38500</td>\n",
       "      <td>Diesel</td>\n",
       "      <td>90</td>\n",
       "      <td>0</td>\n",
       "      <td>0</td>\n",
       "      <td>2000</td>\n",
       "      <td>3</td>\n",
       "      <td>...</td>\n",
       "      <td>1</td>\n",
       "      <td>0</td>\n",
       "      <td>1</td>\n",
       "      <td>0</td>\n",
       "      <td>1</td>\n",
       "      <td>0</td>\n",
       "      <td>0</td>\n",
       "      <td>0</td>\n",
       "      <td>0</td>\n",
       "      <td>Black</td>\n",
       "    </tr>\n",
       "    <tr>\n",
       "      <th>3</th>\n",
       "      <td>25</td>\n",
       "      <td>8</td>\n",
       "      <td>2002</td>\n",
       "      <td>31461</td>\n",
       "      <td>Petrol</td>\n",
       "      <td>192</td>\n",
       "      <td>0</td>\n",
       "      <td>0</td>\n",
       "      <td>1800</td>\n",
       "      <td>3</td>\n",
       "      <td>...</td>\n",
       "      <td>1</td>\n",
       "      <td>0</td>\n",
       "      <td>0</td>\n",
       "      <td>0</td>\n",
       "      <td>0</td>\n",
       "      <td>1</td>\n",
       "      <td>0</td>\n",
       "      <td>0</td>\n",
       "      <td>0</td>\n",
       "      <td>Silver</td>\n",
       "    </tr>\n",
       "    <tr>\n",
       "      <th>4</th>\n",
       "      <td>25</td>\n",
       "      <td>8</td>\n",
       "      <td>2002</td>\n",
       "      <td>32189</td>\n",
       "      <td>Petrol</td>\n",
       "      <td>192</td>\n",
       "      <td>0</td>\n",
       "      <td>0</td>\n",
       "      <td>1800</td>\n",
       "      <td>3</td>\n",
       "      <td>...</td>\n",
       "      <td>1</td>\n",
       "      <td>0</td>\n",
       "      <td>1</td>\n",
       "      <td>1</td>\n",
       "      <td>1</td>\n",
       "      <td>1</td>\n",
       "      <td>0</td>\n",
       "      <td>0</td>\n",
       "      <td>0</td>\n",
       "      <td>Red</td>\n",
       "    </tr>\n",
       "  </tbody>\n",
       "</table>\n",
       "<p>5 rows × 35 columns</p>\n",
       "</div>"
      ],
      "text/plain": [
       "   Age_08_04  Mfg_Month  Mfg_Year     KM Fuel_Type   HP  Met_Color  Automatic  \\\n",
       "0         23         10      2002  46986    Diesel   90          1          0   \n",
       "1         23         10      2002  72937    Diesel   90          1          0   \n",
       "2         30          3      2002  38500    Diesel   90          0          0   \n",
       "3         25          8      2002  31461    Petrol  192          0          0   \n",
       "4         25          8      2002  32189    Petrol  192          0          0   \n",
       "\n",
       "     CC  Doors   ...    Power_Steering  Radio  Mistlamps  Sport_Model  \\\n",
       "0  2000      3   ...                 1      0          0            0   \n",
       "1  2000      3   ...                 1      0          0            0   \n",
       "2  2000      3   ...                 1      0          1            0   \n",
       "3  1800      3   ...                 1      0          0            0   \n",
       "4  1800      3   ...                 1      0          1            1   \n",
       "\n",
       "   Backseat_Divider  Metallic_Rim  Radio_cassette  Parking_Assistant  Tow_Bar  \\\n",
       "0                 1             0               0                  0        0   \n",
       "1                 1             0               0                  0        0   \n",
       "2                 1             0               0                  0        0   \n",
       "3                 0             1               0                  0        0   \n",
       "4                 1             1               0                  0        0   \n",
       "\n",
       "    Color  \n",
       "0    Blue  \n",
       "1  Silver  \n",
       "2   Black  \n",
       "3  Silver  \n",
       "4     Red  \n",
       "\n",
       "[5 rows x 35 columns]"
      ]
     },
     "execution_count": 9,
     "metadata": {},
     "output_type": "execute_result"
    }
   ],
   "source": [
    "x_train_df.head()"
   ]
  },
  {
   "cell_type": "code",
   "execution_count": 10,
   "metadata": {},
   "outputs": [
    {
     "name": "stdout",
     "output_type": "stream",
     "text": [
      "Age_08_04 + Mfg_Month + Mfg_Year + KM + Fuel_Type + HP + Met_Color + Automatic + CC + Doors + Gears + Quarterly_Tax + Weight + Mfr_Guarantee + BOVAG_Guarantee + Guarantee_Period + ABS + Airbag_1 + Airbag_2 + Airco + Automatic_airco + Boardcomputer + CD_Player + Central_Lock + Powered_Windows + Power_Steering + Radio + Mistlamps + Sport_Model + Backseat_Divider + Metallic_Rim + Radio_cassette + Parking_Assistant + Tow_Bar + Color + "
     ]
    }
   ],
   "source": [
    "for i in x_train_df.columns:\n",
    "    print(i + ' +', end=' ')"
   ]
  },
  {
   "cell_type": "code",
   "execution_count": 11,
   "metadata": {
    "collapsed": true
   },
   "outputs": [],
   "source": [
    "fomula = \"y_train_df ~ Age_08_04 + Mfg_Month + Mfg_Year + KM + Fuel_Type + HP + Met_Color + Automatic + CC + Doors + Gears + Quarterly_Tax + Weight + Mfr_Guarantee + BOVAG_Guarantee + Guarantee_Period + ABS + Airbag_1 + Airbag_2 + Airco + Automatic_airco + Boardcomputer + CD_Player + Central_Lock + Powered_Windows + Power_Steering + Radio + Mistlamps + Sport_Model + Backseat_Divider + Metallic_Rim + Radio_cassette + Parking_Assistant + Tow_Bar + Color\""
   ]
  },
  {
   "cell_type": "code",
   "execution_count": 12,
   "metadata": {
    "collapsed": true
   },
   "outputs": [],
   "source": [
    "model_2 = sm.OLS.from_formula(fomula, data=x_train_df)"
   ]
  },
  {
   "cell_type": "code",
   "execution_count": 13,
   "metadata": {},
   "outputs": [
    {
     "name": "stdout",
     "output_type": "stream",
     "text": [
      "                            OLS Regression Results                            \n",
      "==============================================================================\n",
      "Dep. Variable:             y_train_df   R-squared:                       0.910\n",
      "Model:                            OLS   Adj. R-squared:                  0.906\n",
      "Method:                 Least Squares   F-statistic:                     228.9\n",
      "Date:                Thu, 19 Oct 2017   Prob (F-statistic):               0.00\n",
      "Time:                        19:01:15   Log-Likelihood:                -8567.8\n",
      "No. Observations:                1019   AIC:                         1.722e+04\n",
      "Df Residuals:                     975   BIC:                         1.744e+04\n",
      "Df Model:                          43                                         \n",
      "Covariance Type:            nonrobust                                         \n",
      "=======================================================================================\n",
      "                          coef    std err          t      P>|t|      [0.025      0.975]\n",
      "---------------------------------------------------------------------------------------\n",
      "Intercept              -0.0081      0.001    -12.960      0.000      -0.009      -0.007\n",
      "Fuel_Type[T.Diesel]   992.4597    425.931      2.330      0.020     156.612    1828.308\n",
      "Fuel_Type[T.Petrol]  1278.4220    438.939      2.913      0.004     417.047    2139.797\n",
      "Color[T.Black]        620.1757    655.723      0.946      0.344    -666.616    1906.967\n",
      "Color[T.Blue]         474.5195    653.741      0.726      0.468    -808.381    1757.420\n",
      "Color[T.Green]        291.7338    656.271      0.445      0.657    -996.132    1579.600\n",
      "Color[T.Grey]         672.3342    654.237      1.028      0.304    -611.540    1956.209\n",
      "Color[T.Red]          416.8248    653.814      0.638      0.524    -866.220    1699.870\n",
      "Color[T.Silver]       539.7865    660.019      0.818      0.414    -755.436    1835.009\n",
      "Color[T.Violet]       143.4565   1028.417      0.139      0.889   -1874.710    2161.622\n",
      "Color[T.White]       -196.3186    699.356     -0.281      0.779   -1568.735    1176.098\n",
      "Color[T.Yellow]        24.5695   1023.355      0.024      0.981   -1983.663    2032.802\n",
      "Age_08_04            -119.8816      4.143    -28.933      0.000    -128.013    -111.751\n",
      "Mfg_Month             -99.8298     10.979     -9.093      0.000    -121.375     -78.285\n",
      "Mfg_Year                2.1172      0.984      2.151      0.032       0.185       4.049\n",
      "KM                     -0.0168      0.001    -12.247      0.000      -0.020      -0.014\n",
      "HP                     22.5550      3.718      6.066      0.000      15.258      29.852\n",
      "Met_Color              15.9217     85.179      0.187      0.852    -151.234     183.077\n",
      "Automatic             475.9127    161.087      2.954      0.003     159.796     792.029\n",
      "CC                     -0.0474      0.079     -0.603      0.547      -0.202       0.107\n",
      "Doors                 111.9857     42.303      2.647      0.008      28.970     195.002\n",
      "Gears                  88.3951    237.838      0.372      0.710    -378.339     555.129\n",
      "Quarterly_Tax          10.4655      1.985      5.273      0.000       6.571      14.360\n",
      "Weight                  7.8503      1.287      6.098      0.000       5.324      10.377\n",
      "Mfr_Guarantee         179.3823     78.335      2.290      0.022      25.658     333.107\n",
      "BOVAG_Guarantee       486.7035    130.354      3.734      0.000     230.897     742.510\n",
      "Guarantee_Period       67.5634     15.139      4.463      0.000      37.854      97.273\n",
      "ABS                  -243.8034    138.591     -1.759      0.079    -515.775      28.168\n",
      "Airbag_1              130.6500    257.901      0.507      0.613    -375.454     636.754\n",
      "Airbag_2             -207.4778    140.064     -1.481      0.139    -482.339      67.383\n",
      "Airco                 201.4415     95.741      2.104      0.036      13.560     389.323\n",
      "Automatic_airco      2307.5958    198.916     11.601      0.000    1917.244    2697.948\n",
      "Boardcomputer        -217.1013    126.885     -1.711      0.087    -466.100      31.897\n",
      "CD_Player             189.2771    106.369      1.779      0.075     -19.462     398.016\n",
      "Central_Lock           17.1088    157.852      0.108      0.914    -292.661     326.878\n",
      "Powered_Windows       370.8815    156.351      2.372      0.018      64.058     677.705\n",
      "Power_Steering       -204.8137    279.092     -0.734      0.463    -752.503     342.876\n",
      "Radio                 873.1241    809.967      1.078      0.281    -716.356    2462.604\n",
      "Mistlamps             -80.0342    116.365     -0.688      0.492    -308.389     148.320\n",
      "Sport_Model           377.6874     93.703      4.031      0.000     193.805     561.570\n",
      "Backseat_Divider     -201.3512    140.153     -1.437      0.151    -476.388      73.686\n",
      "Metallic_Rim          339.7768    103.078      3.296      0.001     137.496     542.057\n",
      "Radio_cassette       -953.6981    810.649     -1.176      0.240   -2544.516     637.120\n",
      "Parking_Assistant    -913.9375    658.406     -1.388      0.165   -2205.994     378.119\n",
      "Tow_Bar              -185.8544     83.418     -2.228      0.026    -349.553     -22.155\n",
      "==============================================================================\n",
      "Omnibus:                       85.379   Durbin-Watson:                   1.794\n",
      "Prob(Omnibus):                  0.000   Jarque-Bera (JB):              357.477\n",
      "Skew:                           0.270   Prob(JB):                     2.37e-78\n",
      "Kurtosis:                       5.851   Cond. No.                     1.96e+21\n",
      "==============================================================================\n",
      "\n",
      "Warnings:\n",
      "[1] Standard Errors assume that the covariance matrix of the errors is correctly specified.\n",
      "[2] The smallest eigenvalue is 1.62e-30. This might indicate that there are\n",
      "strong multicollinearity problems or that the design matrix is singular.\n"
     ]
    }
   ],
   "source": [
    "result_model_2 = model_2.fit()\n",
    "print(result_model_2.summary())"
   ]
  },
  {
   "cell_type": "code",
   "execution_count": 14,
   "metadata": {},
   "outputs": [
    {
     "data": {
      "image/png": "[encoded data removed]",
      "text/plain": [
       "<matplotlib.figure.Figure at 0x118b2aeb8>"
      ]
     },
     "metadata": {},
     "output_type": "display_data"
    }
   ],
   "source": [
    "y_train_new = result_model_2.predict(x_train_df)\n",
    "\n",
    "plt.scatter(y_train_df, y_train_new)\n",
    "plt.xlabel(u\"y\")\n",
    "plt.ylabel(u\"y^\",rotation=1)\n",
    "plt.show()"
   ]
  },
  {
   "cell_type": "code",
   "execution_count": 15,
   "metadata": {},
   "outputs": [
    {
     "data": {
      "text/plain": [
       "1084.7718181200207"
      ]
     },
     "execution_count": 15,
     "metadata": {},
     "output_type": "execute_result"
    }
   ],
   "source": [
    "sm.tools.eval_measures.rmse(y_train_df, y_train_new)"
   ]
  },
  {
   "cell_type": "code",
   "execution_count": null,
   "metadata": {
    "collapsed": true
   },
   "outputs": [],
   "source": []
  },
  {
   "cell_type": "code",
   "execution_count": null,
   "metadata": {
    "collapsed": true
   },
   "outputs": [],
   "source": []
  },
  {
   "cell_type": "markdown",
   "metadata": {},
   "source": [
    "** 회귀모형 4 생성 **\n"
   ]
  },
  {
   "cell_type": "code",
   "execution_count": 16,
   "metadata": {
    "collapsed": true
   },
   "outputs": [],
   "source": [
    "# pvalue > 0.05 이상 확인\n",
    "to_del_var = result_model_2.pvalues[result_model_2.pvalues > 0.05]"
   ]
  },
  {
   "cell_type": "code",
   "execution_count": 17,
   "metadata": {},
   "outputs": [
    {
     "data": {
      "text/plain": [
       "Index(['Color[T.Black]', 'Color[T.Blue]', 'Color[T.Green]', 'Color[T.Grey]',\n",
       "       'Color[T.Red]', 'Color[T.Silver]', 'Color[T.Violet]', 'Color[T.White]',\n",
       "       'Color[T.Yellow]', 'Met_Color', 'CC', 'Gears', 'ABS', 'Airbag_1',\n",
       "       'Airbag_2', 'Boardcomputer', 'CD_Player', 'Central_Lock',\n",
       "       'Power_Steering', 'Radio', 'Mistlamps', 'Backseat_Divider',\n",
       "       'Radio_cassette', 'Parking_Assistant'],\n",
       "      dtype='object')"
      ]
     },
     "execution_count": 17,
     "metadata": {},
     "output_type": "execute_result"
    }
   ],
   "source": [
    "to_del_var.index"
   ]
  },
  {
   "cell_type": "code",
   "execution_count": 18,
   "metadata": {
    "collapsed": true
   },
   "outputs": [],
   "source": [
    "x_train_df_4 = x_train_df"
   ]
  },
  {
   "cell_type": "code",
   "execution_count": 19,
   "metadata": {
    "collapsed": true
   },
   "outputs": [],
   "source": [
    "del x_train_df_4['Color']"
   ]
  },
  {
   "cell_type": "code",
   "execution_count": 21,
   "metadata": {
    "collapsed": true
   },
   "outputs": [
    {
     "ename": "KeyError",
     "evalue": "'CC'",
     "output_type": "error",
     "traceback": [
      "\u001b[0;31m---------------------------------------------------------------------------\u001b[0m",
      "\u001b[0;31mKeyError\u001b[0m                                  Traceback (most recent call last)",
      "\u001b[0;32m/Users/yoo/anaconda/lib/python3.6/site-packages/pandas/core/indexes/base.py\u001b[0m in \u001b[0;36mget_loc\u001b[0;34m(self, key, method, tolerance)\u001b[0m\n\u001b[1;32m   2392\u001b[0m             \u001b[0;32mtry\u001b[0m\u001b[0;34m:\u001b[0m\u001b[0;34m\u001b[0m\u001b[0m\n\u001b[0;32m-> 2393\u001b[0;31m                 \u001b[0;32mreturn\u001b[0m \u001b[0mself\u001b[0m\u001b[0;34m.\u001b[0m\u001b[0m_engine\u001b[0m\u001b[0;34m.\u001b[0m\u001b[0mget_loc\u001b[0m\u001b[0;34m(\u001b[0m\u001b[0mkey\u001b[0m\u001b[0;34m)\u001b[0m\u001b[0;34m\u001b[0m\u001b[0m\n\u001b[0m\u001b[1;32m   2394\u001b[0m             \u001b[0;32mexcept\u001b[0m \u001b[0mKeyError\u001b[0m\u001b[0;34m:\u001b[0m\u001b[0;34m\u001b[0m\u001b[0m\n",
      "\u001b[0;32mpandas/_libs/index.pyx\u001b[0m in \u001b[0;36mpandas._libs.index.IndexEngine.get_loc (pandas/_libs/index.c:5239)\u001b[0;34m()\u001b[0m\n",
      "\u001b[0;32mpandas/_libs/index.pyx\u001b[0m in \u001b[0;36mpandas._libs.index.IndexEngine.get_loc (pandas/_libs/index.c:5085)\u001b[0;34m()\u001b[0m\n",
      "\u001b[0;32mpandas/_libs/hashtable_class_helper.pxi\u001b[0m in \u001b[0;36mpandas._libs.hashtable.PyObjectHashTable.get_item (pandas/_libs/hashtable.c:20405)\u001b[0;34m()\u001b[0m\n",
      "\u001b[0;32mpandas/_libs/hashtable_class_helper.pxi\u001b[0m in \u001b[0;36mpandas._libs.hashtable.PyObjectHashTable.get_item (pandas/_libs/hashtable.c:20359)\u001b[0;34m()\u001b[0m\n",
      "\u001b[0;31mKeyError\u001b[0m: 'CC'",
      "\nDuring handling of the above exception, another exception occurred:\n",
      "\u001b[0;31mKeyError\u001b[0m                                  Traceback (most recent call last)",
      "\u001b[0;32m<ipython-input-21-8fcfa01f8200>\u001b[0m in \u001b[0;36m<module>\u001b[0;34m()\u001b[0m\n\u001b[1;32m      1\u001b[0m \u001b[0;32mfor\u001b[0m \u001b[0mi\u001b[0m \u001b[0;32min\u001b[0m \u001b[0mto_del_var\u001b[0m\u001b[0;34m.\u001b[0m\u001b[0mindex\u001b[0m\u001b[0;34m:\u001b[0m\u001b[0;34m\u001b[0m\u001b[0m\n\u001b[1;32m      2\u001b[0m     \u001b[0;32mif\u001b[0m \u001b[0;34m'Color'\u001b[0m \u001b[0;32mnot\u001b[0m \u001b[0;32min\u001b[0m \u001b[0mi\u001b[0m\u001b[0;34m:\u001b[0m\u001b[0;34m\u001b[0m\u001b[0m\n\u001b[0;32m----> 3\u001b[0;31m         \u001b[0;32mdel\u001b[0m \u001b[0mx_train_df_4\u001b[0m\u001b[0;34m[\u001b[0m\u001b[0mi\u001b[0m\u001b[0;34m]\u001b[0m\u001b[0;34m\u001b[0m\u001b[0m\n\u001b[0m",
      "\u001b[0;32m/Users/yoo/anaconda/lib/python3.6/site-packages/pandas/core/generic.py\u001b[0m in \u001b[0;36m__delitem__\u001b[0;34m(self, key)\u001b[0m\n\u001b[1;32m   1788\u001b[0m             \u001b[0;31m# there was no match, this call should raise the appropriate\u001b[0m\u001b[0;34m\u001b[0m\u001b[0;34m\u001b[0m\u001b[0m\n\u001b[1;32m   1789\u001b[0m             \u001b[0;31m# exception:\u001b[0m\u001b[0;34m\u001b[0m\u001b[0;34m\u001b[0m\u001b[0m\n\u001b[0;32m-> 1790\u001b[0;31m             \u001b[0mself\u001b[0m\u001b[0;34m.\u001b[0m\u001b[0m_data\u001b[0m\u001b[0;34m.\u001b[0m\u001b[0mdelete\u001b[0m\u001b[0;34m(\u001b[0m\u001b[0mkey\u001b[0m\u001b[0;34m)\u001b[0m\u001b[0;34m\u001b[0m\u001b[0m\n\u001b[0m\u001b[1;32m   1791\u001b[0m \u001b[0;34m\u001b[0m\u001b[0m\n\u001b[1;32m   1792\u001b[0m         \u001b[0;31m# delete from the caches\u001b[0m\u001b[0;34m\u001b[0m\u001b[0;34m\u001b[0m\u001b[0m\n",
      "\u001b[0;32m/Users/yoo/anaconda/lib/python3.6/site-packages/pandas/core/internals.py\u001b[0m in \u001b[0;36mdelete\u001b[0;34m(self, item)\u001b[0m\n\u001b[1;32m   3647\u001b[0m         \u001b[0mDelete\u001b[0m \u001b[0mselected\u001b[0m \u001b[0mitem\u001b[0m \u001b[0;34m(\u001b[0m\u001b[0mitems\u001b[0m \u001b[0;32mif\u001b[0m \u001b[0mnon\u001b[0m\u001b[0;34m-\u001b[0m\u001b[0munique\u001b[0m\u001b[0;34m)\u001b[0m \u001b[0;32min\u001b[0m\u001b[0;34m-\u001b[0m\u001b[0mplace\u001b[0m\u001b[0;34m.\u001b[0m\u001b[0;34m\u001b[0m\u001b[0m\n\u001b[1;32m   3648\u001b[0m         \"\"\"\n\u001b[0;32m-> 3649\u001b[0;31m         \u001b[0mindexer\u001b[0m \u001b[0;34m=\u001b[0m \u001b[0mself\u001b[0m\u001b[0;34m.\u001b[0m\u001b[0mitems\u001b[0m\u001b[0;34m.\u001b[0m\u001b[0mget_loc\u001b[0m\u001b[0;34m(\u001b[0m\u001b[0mitem\u001b[0m\u001b[0;34m)\u001b[0m\u001b[0;34m\u001b[0m\u001b[0m\n\u001b[0m\u001b[1;32m   3650\u001b[0m \u001b[0;34m\u001b[0m\u001b[0m\n\u001b[1;32m   3651\u001b[0m         \u001b[0mis_deleted\u001b[0m \u001b[0;34m=\u001b[0m \u001b[0mnp\u001b[0m\u001b[0;34m.\u001b[0m\u001b[0mzeros\u001b[0m\u001b[0;34m(\u001b[0m\u001b[0mself\u001b[0m\u001b[0;34m.\u001b[0m\u001b[0mshape\u001b[0m\u001b[0;34m[\u001b[0m\u001b[0;36m0\u001b[0m\u001b[0;34m]\u001b[0m\u001b[0;34m,\u001b[0m \u001b[0mdtype\u001b[0m\u001b[0;34m=\u001b[0m\u001b[0mnp\u001b[0m\u001b[0;34m.\u001b[0m\u001b[0mbool_\u001b[0m\u001b[0;34m)\u001b[0m\u001b[0;34m\u001b[0m\u001b[0m\n",
      "\u001b[0;32m/Users/yoo/anaconda/lib/python3.6/site-packages/pandas/core/indexes/base.py\u001b[0m in \u001b[0;36mget_loc\u001b[0;34m(self, key, method, tolerance)\u001b[0m\n\u001b[1;32m   2393\u001b[0m                 \u001b[0;32mreturn\u001b[0m \u001b[0mself\u001b[0m\u001b[0;34m.\u001b[0m\u001b[0m_engine\u001b[0m\u001b[0;34m.\u001b[0m\u001b[0mget_loc\u001b[0m\u001b[0;34m(\u001b[0m\u001b[0mkey\u001b[0m\u001b[0;34m)\u001b[0m\u001b[0;34m\u001b[0m\u001b[0m\n\u001b[1;32m   2394\u001b[0m             \u001b[0;32mexcept\u001b[0m \u001b[0mKeyError\u001b[0m\u001b[0;34m:\u001b[0m\u001b[0;34m\u001b[0m\u001b[0m\n\u001b[0;32m-> 2395\u001b[0;31m                 \u001b[0;32mreturn\u001b[0m \u001b[0mself\u001b[0m\u001b[0;34m.\u001b[0m\u001b[0m_engine\u001b[0m\u001b[0;34m.\u001b[0m\u001b[0mget_loc\u001b[0m\u001b[0;34m(\u001b[0m\u001b[0mself\u001b[0m\u001b[0;34m.\u001b[0m\u001b[0m_maybe_cast_indexer\u001b[0m\u001b[0;34m(\u001b[0m\u001b[0mkey\u001b[0m\u001b[0;34m)\u001b[0m\u001b[0;34m)\u001b[0m\u001b[0;34m\u001b[0m\u001b[0m\n\u001b[0m\u001b[1;32m   2396\u001b[0m \u001b[0;34m\u001b[0m\u001b[0m\n\u001b[1;32m   2397\u001b[0m         \u001b[0mindexer\u001b[0m \u001b[0;34m=\u001b[0m \u001b[0mself\u001b[0m\u001b[0;34m.\u001b[0m\u001b[0mget_indexer\u001b[0m\u001b[0;34m(\u001b[0m\u001b[0;34m[\u001b[0m\u001b[0mkey\u001b[0m\u001b[0;34m]\u001b[0m\u001b[0;34m,\u001b[0m \u001b[0mmethod\u001b[0m\u001b[0;34m=\u001b[0m\u001b[0mmethod\u001b[0m\u001b[0;34m,\u001b[0m \u001b[0mtolerance\u001b[0m\u001b[0;34m=\u001b[0m\u001b[0mtolerance\u001b[0m\u001b[0;34m)\u001b[0m\u001b[0;34m\u001b[0m\u001b[0m\n",
      "\u001b[0;32mpandas/_libs/index.pyx\u001b[0m in \u001b[0;36mpandas._libs.index.IndexEngine.get_loc (pandas/_libs/index.c:5239)\u001b[0;34m()\u001b[0m\n",
      "\u001b[0;32mpandas/_libs/index.pyx\u001b[0m in \u001b[0;36mpandas._libs.index.IndexEngine.get_loc (pandas/_libs/index.c:5085)\u001b[0;34m()\u001b[0m\n",
      "\u001b[0;32mpandas/_libs/hashtable_class_helper.pxi\u001b[0m in \u001b[0;36mpandas._libs.hashtable.PyObjectHashTable.get_item (pandas/_libs/hashtable.c:20405)\u001b[0;34m()\u001b[0m\n",
      "\u001b[0;32mpandas/_libs/hashtable_class_helper.pxi\u001b[0m in \u001b[0;36mpandas._libs.hashtable.PyObjectHashTable.get_item (pandas/_libs/hashtable.c:20359)\u001b[0;34m()\u001b[0m\n",
      "\u001b[0;31mKeyError\u001b[0m: 'CC'"
     ]
    }
   ],
   "source": [
    "for i in to_del_var.index:\n",
    "    if 'Color' not in i:\n",
    "        del x_train_df_4[i]"
   ]
  },
  {
   "cell_type": "code",
   "execution_count": 22,
   "metadata": {},
   "outputs": [
    {
     "data": {
      "text/plain": [
       "Index(['Age_08_04', 'Mfg_Month', 'Mfg_Year', 'KM', 'Fuel_Type', 'HP',\n",
       "       'Met_Color', 'Automatic', 'Doors', 'Quarterly_Tax', 'Weight',\n",
       "       'Mfr_Guarantee', 'BOVAG_Guarantee', 'Guarantee_Period', 'Airco',\n",
       "       'Automatic_airco', 'Powered_Windows', 'Sport_Model', 'Metallic_Rim',\n",
       "       'Tow_Bar'],\n",
       "      dtype='object')"
      ]
     },
     "execution_count": 22,
     "metadata": {},
     "output_type": "execute_result"
    }
   ],
   "source": [
    "x_train_df_4.columns"
   ]
  },
  {
   "cell_type": "code",
   "execution_count": 23,
   "metadata": {
    "scrolled": true
   },
   "outputs": [
    {
     "name": "stdout",
     "output_type": "stream",
     "text": [
      "Age_08_04 + Mfg_Month + Mfg_Year + KM + Fuel_Type + HP + Met_Color + Automatic + Doors + Quarterly_Tax + Weight + Mfr_Guarantee + BOVAG_Guarantee + Guarantee_Period + Airco + Automatic_airco + Powered_Windows + Sport_Model + Metallic_Rim + Tow_Bar + "
     ]
    }
   ],
   "source": [
    "for i in x_train_df.columns:\n",
    "    print(i + ' +', end=' ')"
   ]
  },
  {
   "cell_type": "code",
   "execution_count": 24,
   "metadata": {},
   "outputs": [
    {
     "name": "stdout",
     "output_type": "stream",
     "text": [
      "                            OLS Regression Results                            \n",
      "==============================================================================\n",
      "Dep. Variable:             y_train_df   R-squared:                       0.905\n",
      "Model:                            OLS   Adj. R-squared:                  0.903\n",
      "Method:                 Least Squares   F-statistic:                     474.2\n",
      "Date:                Thu, 19 Oct 2017   Prob (F-statistic):               0.00\n",
      "Time:                        19:01:51   Log-Likelihood:                -8595.8\n",
      "No. Observations:                1019   AIC:                         1.723e+04\n",
      "Df Residuals:                     998   BIC:                         1.734e+04\n",
      "Df Model:                          20                                         \n",
      "Covariance Type:            nonrobust                                         \n",
      "=======================================================================================\n",
      "                          coef    std err          t      P>|t|      [0.025      0.975]\n",
      "---------------------------------------------------------------------------------------\n",
      "Intercept              -0.0082      0.001    -15.720      0.000      -0.009      -0.007\n",
      "Fuel_Type[T.Diesel]   889.7297    421.553      2.111      0.035      62.497    1716.962\n",
      "Fuel_Type[T.Petrol]  1224.9429    436.611      2.806      0.005     368.162    2081.724\n",
      "Age_08_04            -113.0774      2.997    -37.736      0.000    -118.958    -107.197\n",
      "Mfg_Month            -102.5361     10.930     -9.381      0.000    -123.985     -81.088\n",
      "Mfg_Year                1.4970      0.660      2.267      0.024       0.201       2.793\n",
      "KM                     -0.0170      0.001    -12.407      0.000      -0.020      -0.014\n",
      "HP                     20.6454      3.590      5.751      0.000      13.601      27.690\n",
      "Met_Color              91.4186     79.130      1.155      0.248     -63.861     246.698\n",
      "Automatic             386.9138    159.894      2.420      0.016      73.147     700.680\n",
      "Doors                  86.9383     41.358      2.102      0.036       5.780     168.096\n",
      "Quarterly_Tax           9.2727      1.823      5.085      0.000       5.695      12.851\n",
      "Weight                  9.3303      1.260      7.403      0.000       6.857      11.804\n",
      "Mfr_Guarantee         158.5446     78.223      2.027      0.043       5.043     312.046\n",
      "BOVAG_Guarantee       371.0048    124.429      2.982      0.003     126.833     615.177\n",
      "Guarantee_Period       94.0876     13.424      7.009      0.000      67.745     120.430\n",
      "Airco                 135.9148     91.686      1.482      0.139     -44.004     315.834\n",
      "Automatic_airco      2444.9727    182.999     13.361      0.000    2085.865    2804.080\n",
      "Powered_Windows       408.2786     89.251      4.575      0.000     233.138     583.419\n",
      "Sport_Model           290.5047     84.536      3.436      0.001     124.615     456.394\n",
      "Metallic_Rim          295.8974     96.899      3.054      0.002     105.748     486.047\n",
      "Tow_Bar              -202.9066     83.196     -2.439      0.015    -366.166     -39.647\n",
      "==============================================================================\n",
      "Omnibus:                       88.196   Durbin-Watson:                   1.727\n",
      "Prob(Omnibus):                  0.000   Jarque-Bera (JB):              393.874\n",
      "Skew:                           0.259   Prob(JB):                     2.96e-86\n",
      "Kurtosis:                       6.001   Cond. No.                     1.99e+21\n",
      "==============================================================================\n",
      "\n",
      "Warnings:\n",
      "[1] Standard Errors assume that the covariance matrix of the errors is correctly specified.\n",
      "[2] The smallest eigenvalue is 1.56e-30. This might indicate that there are\n",
      "strong multicollinearity problems or that the design matrix is singular.\n"
     ]
    }
   ],
   "source": [
    "fomula = \"y_train_df ~ Age_08_04 + Mfg_Month + Mfg_Year + KM + Fuel_Type + HP + Met_Color + Automatic + Doors + Quarterly_Tax + Weight + Mfr_Guarantee + BOVAG_Guarantee + Guarantee_Period + Airco + Automatic_airco + Powered_Windows + Sport_Model + Metallic_Rim + Tow_Bar\"\n",
    "model_4 = sm.OLS.from_formula(fomula, data=x_train_df)\n",
    "result_model_4 = model_4.fit()\n",
    "print(result_model_4.summary())\n"
   ]
  },
  {
   "cell_type": "code",
   "execution_count": 25,
   "metadata": {},
   "outputs": [
    {
     "data": {
      "text/plain": [
       "Index(['Age_08_04', 'Mfg_Month', 'Mfg_Year', 'KM', 'Fuel_Type', 'HP',\n",
       "       'Met_Color', 'Automatic', 'Doors', 'Quarterly_Tax', 'Weight',\n",
       "       'Mfr_Guarantee', 'BOVAG_Guarantee', 'Guarantee_Period', 'Airco',\n",
       "       'Automatic_airco', 'Powered_Windows', 'Sport_Model', 'Metallic_Rim',\n",
       "       'Tow_Bar'],\n",
       "      dtype='object')"
      ]
     },
     "execution_count": 25,
     "metadata": {},
     "output_type": "execute_result"
    }
   ],
   "source": [
    "x_train_df_4.columns"
   ]
  },
  {
   "cell_type": "code",
   "execution_count": 26,
   "metadata": {},
   "outputs": [
    {
     "data": {
      "image/png": "[encoded data removed]",
      "text/plain": [
       "<matplotlib.figure.Figure at 0x118837f98>"
      ]
     },
     "metadata": {},
     "output_type": "display_data"
    },
    {
     "name": "stdout",
     "output_type": "stream",
     "text": [
      "1114.95120658\n"
     ]
    }
   ],
   "source": [
    "y_train_new = result_model_4.predict(x_train_df_4)\n",
    "\n",
    "plt.scatter(y_train_df, y_train_new)\n",
    "plt.xlabel(u\"y\")\n",
    "plt.ylabel(u\"y^\",rotation=1)\n",
    "plt.show()\n",
    "print(sm.tools.eval_measures.rmse(y_train_df, y_train_new))"
   ]
  },
  {
   "cell_type": "markdown",
   "metadata": {},
   "source": [
    "** 회귀모형 6 생성 및 확인 **"
   ]
  },
  {
   "cell_type": "code",
   "execution_count": 31,
   "metadata": {},
   "outputs": [
    {
     "data": {
      "text/plain": [
       "Index(['Met_Color', 'Airco'], dtype='object')"
      ]
     },
     "execution_count": 31,
     "metadata": {},
     "output_type": "execute_result"
    }
   ],
   "source": [
    "# 회귀모형 4에서 제외해야할 변수 확인\n",
    "\n",
    "to_del_var = result_model_4.pvalues[result_model_4.pvalues > 0.05].index\n",
    "to_del_var"
   ]
  },
  {
   "cell_type": "code",
   "execution_count": 35,
   "metadata": {},
   "outputs": [],
   "source": [
    "for i in to_del_var:\n",
    "    del x_train_df_4[i]"
   ]
  },
  {
   "cell_type": "code",
   "execution_count": 37,
   "metadata": {},
   "outputs": [
    {
     "name": "stdout",
     "output_type": "stream",
     "text": [
      "Age_08_04 + Mfg_Month + Mfg_Year + KM + Fuel_Type + HP + Automatic + Doors + Quarterly_Tax + Weight + Mfr_Guarantee + BOVAG_Guarantee + Guarantee_Period + Automatic_airco + Powered_Windows + Sport_Model + Metallic_Rim + Tow_Bar + "
     ]
    }
   ],
   "source": [
    "for i in x_train_df_4.columns:\n",
    "    print(i + ' +', end=' ')"
   ]
  },
  {
   "cell_type": "code",
   "execution_count": 40,
   "metadata": {},
   "outputs": [
    {
     "name": "stdout",
     "output_type": "stream",
     "text": [
      "                            OLS Regression Results                            \n",
      "==============================================================================\n",
      "Dep. Variable:             y_train_df   R-squared:                       0.904\n",
      "Model:                            OLS   Adj. R-squared:                  0.903\n",
      "Method:                 Least Squares   F-statistic:                     525.8\n",
      "Date:                Thu, 19 Oct 2017   Prob (F-statistic):               0.00\n",
      "Time:                        19:08:45   Log-Likelihood:                -8597.6\n",
      "No. Observations:                1019   AIC:                         1.723e+04\n",
      "Df Residuals:                    1000   BIC:                         1.733e+04\n",
      "Df Model:                          18                                         \n",
      "Covariance Type:            nonrobust                                         \n",
      "=======================================================================================\n",
      "                          coef    std err          t      P>|t|      [0.025      0.975]\n",
      "---------------------------------------------------------------------------------------\n",
      "Intercept              -0.0082      0.001    -15.757      0.000      -0.009      -0.007\n",
      "Fuel_Type[T.Diesel]   877.6351    421.755      2.081      0.038      50.008    1705.262\n",
      "Fuel_Type[T.Petrol]  1194.1991    436.281      2.737      0.006     338.068    2050.330\n",
      "Age_08_04            -114.4813      2.882    -39.723      0.000    -120.137    -108.826\n",
      "Mfg_Month            -101.9869     10.935     -9.327      0.000    -123.444     -80.529\n",
      "Mfg_Year                1.5372      0.660      2.329      0.020       0.242       2.833\n",
      "KM                     -0.0169      0.001    -12.351      0.000      -0.020      -0.014\n",
      "HP                     21.1095      3.580      5.896      0.000      14.084      28.135\n",
      "Automatic             384.2165    159.917      2.403      0.016      70.405     698.028\n",
      "Doors                  93.3431     41.254      2.263      0.024      12.389     174.297\n",
      "Quarterly_Tax           9.2485      1.823      5.073      0.000       5.671      12.826\n",
      "Weight                  9.3536      1.261      7.416      0.000       6.879      11.829\n",
      "Mfr_Guarantee         172.7822     77.252      2.237      0.026      21.188     324.377\n",
      "BOVAG_Guarantee       369.7502    124.514      2.970      0.003     125.412     614.088\n",
      "Guarantee_Period       93.2021     13.426      6.942      0.000      66.856     119.548\n",
      "Automatic_airco      2445.7679    183.113     13.357      0.000    2086.437    2805.099\n",
      "Powered_Windows       473.7715     81.034      5.847      0.000     314.755     632.788\n",
      "Sport_Model           287.5675     84.534      3.402      0.001     121.684     453.451\n",
      "Metallic_Rim          316.9274     96.216      3.294      0.001     128.118     505.737\n",
      "Tow_Bar              -184.0710     81.977     -2.245      0.025    -344.938     -23.204\n",
      "==============================================================================\n",
      "Omnibus:                       87.857   Durbin-Watson:                   1.740\n",
      "Prob(Omnibus):                  0.000   Jarque-Bera (JB):              405.591\n",
      "Skew:                           0.239   Prob(JB):                     8.45e-89\n",
      "Kurtosis:                       6.053   Cond. No.                     1.89e+21\n",
      "==============================================================================\n",
      "\n",
      "Warnings:\n",
      "[1] Standard Errors assume that the covariance matrix of the errors is correctly specified.\n",
      "[2] The smallest eigenvalue is 1.74e-30. This might indicate that there are\n",
      "strong multicollinearity problems or that the design matrix is singular.\n"
     ]
    }
   ],
   "source": [
    "fomula = \"y_train_df ~ Age_08_04 + Mfg_Month + Mfg_Year + KM + Fuel_Type + HP + Automatic + Doors + Quarterly_Tax + Weight + Mfr_Guarantee + BOVAG_Guarantee + Guarantee_Period + Automatic_airco + Powered_Windows + Sport_Model + Metallic_Rim + Tow_Bar\"\n",
    "model_6 = sm.OLS.from_formula(fomula, data=x_train_df_4)\n",
    "result_model_6 = model_6.fit()\n",
    "print(result_model_6.summary())"
   ]
  },
  {
   "cell_type": "code",
   "execution_count": 42,
   "metadata": {},
   "outputs": [
    {
     "data": {
      "image/png": "[encoded data removed]",
      "text/plain": [
       "<matplotlib.figure.Figure at 0x11f4c4080>"
      ]
     },
     "metadata": {},
     "output_type": "display_data"
    },
    {
     "name": "stdout",
     "output_type": "stream",
     "text": [
      "1116.9740107\n"
     ]
    }
   ],
   "source": [
    "y_train_new = result_model_6.predict(x_train_df_4)\n",
    "\n",
    "plt.scatter(y_train_df, y_train_new)\n",
    "plt.xlabel(u\"y\")\n",
    "plt.ylabel(u\"y^\",rotation=1)\n",
    "plt.show()\n",
    "print(sm.tools.eval_measures.rmse(y_train_df, y_train_new))"
   ]
  }
 ],
 "metadata": {
  "kernelspec": {
   "display_name": "Python 3",
   "language": "python",
   "name": "python3"
  },
  "language_info": {
   "codemirror_mode": {
    "name": "ipython",
    "version": 3
   },
   "file_extension": ".py",
   "mimetype": "text/x-python",
   "name": "python",
   "nbconvert_exporter": "python",
   "pygments_lexer": "ipython3",
   "version": "3.6.1"
  }
 },
 "nbformat": 4,
 "nbformat_minor": 2
}
